{
 "cells": [
  {
   "cell_type": "code",
   "execution_count": 8,
   "metadata": {},
   "outputs": [],
   "source": [
    "import matplotlib.pyplot as plt\n",
    "import pandas as pd\n",
    "import os"
   ]
  },
  {
   "cell_type": "code",
   "execution_count": 9,
   "metadata": {},
   "outputs": [],
   "source": [
    "def plot(train_, predict_, label_x, label_y, scatter=True):\n",
    "    plt.figure(figsize=(12, 3))\n",
    "    if scatter:\n",
    "        plt.scatter(*train_, label=label_x)\n",
    "    else:\n",
    "        plt.plot(*train_, label=label_x)\n",
    "    plt.plot(*predict_, label=label_y, c='r')\n",
    "    plt.legend()"
   ]
  },
  {
   "cell_type": "code",
   "execution_count": 10,
   "metadata": {},
   "outputs": [],
   "source": [
    "OUTPUT_DIR = 'out'\n",
    "ID = os.listdir(OUTPUT_DIR)[0]\n",
    "FOLDER_DIR = f'{OUTPUT_DIR}/{ID}'\n",
    "METRICS = [term for term in os.listdir(FOLDER_DIR) if 'json' not in term]"
   ]
  },
  {
   "cell_type": "code",
   "execution_count": 11,
   "metadata": {},
   "outputs": [
    {
     "name": "stdout",
     "output_type": "stream",
     "text": [
      "PLOT FOR service c1f0b73d-0937-4647-bd88-42f1a227b73d:\n"
     ]
    }
   ],
   "source": [
    "print(f\"PLOT FOR service {ID}:\")\n",
    "for metrics in METRICS:\n",
    "    metrics_folder = f'{FOLDER_DIR}/{METRICS[0]}'\n",
    "    TRAIN_PATH, PREDICT_PATH = f'{metrics_folder}/train_data.csv', f'{metrics_folder}/predict_points.csv'\n",
    "    train_df, predict_df = pd.read_csv(TRAIN_PATH), pd.read_csv(PREDICT_PATH)\n",
    "    # predict_df = predict_df.iloc[[0, -1]]\n",
    "    plot(\n",
    "        [train_df['datetime'], train_df['latency']],\n",
    "        [predict_df['datetime'], predict_df['latency']],\n",
    "        metrics,\n",
    "        \"regression line\",\n",
    "        False\n",
    "    )"
   ]
  },
  {
   "cell_type": "code",
   "execution_count": null,
   "metadata": {},
   "outputs": [],
   "source": []
  }
 ],
 "metadata": {
  "kernelspec": {
   "display_name": "env",
   "language": "python",
   "name": "python3"
  },
  "language_info": {
   "codemirror_mode": {
    "name": "ipython",
    "version": 3
   },
   "file_extension": ".py",
   "mimetype": "text/x-python",
   "name": "python",
   "nbconvert_exporter": "python",
   "pygments_lexer": "ipython3",
   "version": "3.11.4"
  },
  "orig_nbformat": 4
 },
 "nbformat": 4,
 "nbformat_minor": 2
}
